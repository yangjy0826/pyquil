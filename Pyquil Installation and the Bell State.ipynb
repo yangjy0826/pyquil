{
 "cells": [
  {
   "cell_type": "markdown",
   "metadata": {},
   "source": [
    "# Installation of Pyquil\n",
    "### 1. Install [anaconda3](https://www.anaconda.com/distribution/)\n",
    "\n",
    "   After the installation, if here you meet `No module called conda` after typing conda, or cannot create or activate a conda enviroment, you need to add conda to path. Thus you need to add a few lines into your `bashrc` file.\n",
    "   \n",
    "   Step1. Use `gedit ~/.bashrc` to open the file\n",
    "   \n",
    "   Step2. Add these lines into the file:\n",
    "   ```\n",
    "   # !! Contents within this block are managed by 'conda init' !!\n",
    "__conda_setup=\"$(CONDA_REPORT_ERRORS=false '/home/yourusername/anaconda3/bin/conda' shell.bash hook 2> /dev/null)\"\n",
    "if [ $? -eq 0 ]; then\n",
    "    \\eval \"$__conda_setup\"\n",
    "else\n",
    "    if [ -f \"/home/yourusername/anaconda3/etc/profile.d/conda.sh\" ]; then\n",
    "        . \"/home/yourusername/anaconda3/etc/profile.d/conda.sh\"\n",
    "        CONDA_CHANGEPS1=false conda activate base\n",
    "    else\n",
    "        \\export PATH=\"/home/yourusername/anaconda3/bin:$PATH\"\n",
    "    fi\n",
    "fi\n",
    "unset __conda_setup\n",
    "  # <<< conda init <<<\n",
    "   ```\n",
    "   \n",
    "   Remember to change all the `yourusername` into yours.\n",
    "   \n",
    "### 2. Create a new environment for Pyquil\n",
    "\n",
    "   `conda create -n pyquil python=3.7`\n",
    "   \n",
    "### 3. Activate the new environment\n",
    "\n",
    "   `conda activate pyquil`\n",
    "\n",
    "### 4. Install Pyquil\n",
    "\n",
    "   `pip install pyquil`\n",
    "   \n",
    "   The installation may fail because the lack of `gcc`, then you need to install it by:\n",
    "   \n",
    "   `sudo apt install gcc`\n",
    "\n",
    "### 5. Download the QVM and Compiler\n",
    "\n",
    "The Forest 2.0 Downloadable SDK Preview currently contains (from the reference):\n",
    "\n",
    "The Rigetti Quantum Virtual Machine (qvm) which allows high-performance simulation of Quil programs\n",
    "   \n",
    "The Rigetti Quil Compiler (quilc) which allows compilation and optimization of Quil programs to native gate sets\n",
    "   \n",
    "You can request the downloadable SDK from Rigetti Forest's [website](http://rigetti.com/forest). Enter your email, and a link for the SDK will be sent to your email.\n",
    "\n",
    "### 6. Install the QVM and Compiler\n",
    "\n",
    "Here we choose to install the QVM and Compiler on Linux (.deb). Change to the directory of the file you just downloaded in 5. Unpack the file and open it by:\n",
    "\n",
    "`tar -xf forest-sdk-linux-deb.tar.bz2`\n",
    "\n",
    "`cd forest-sdk-2.0rc2-linux-deb`\n",
    "\n",
    "The installation will start after this line:\n",
    "\n",
    "`sudo ./forest-sdk-2.0rc2-linux-deb.run`\n",
    "\n",
    "Then you have finished the process of installing the QVM and the compiler quilc. You can check their version by:\n",
    "\n",
    "`qvm --version`\n",
    "\n",
    "`quilc --version`\n",
    "\n",
    "\n",
    "### Reference:\n",
    "\n",
    "The [documentation](https://pyquil.readthedocs.io/en/latest/start.html) for Pyquil 2.0.\n"
   ]
  },
  {
   "cell_type": "markdown",
   "metadata": {},
   "source": [
    "# A simple program using Pyquil\n",
    "Realization of the Bell State"
   ]
  },
  {
   "cell_type": "code",
   "execution_count": 1,
   "metadata": {},
   "outputs": [],
   "source": [
    "from pyquil import Program, get_qc\n",
    "from pyquil.gates import *"
   ]
  },
  {
   "cell_type": "code",
   "execution_count": 3,
   "metadata": {},
   "outputs": [],
   "source": [
    "# construct a Bell State program\n",
    "p = Program(H(0), CNOT(0, 1))"
   ]
  },
  {
   "cell_type": "markdown",
   "metadata": {},
   "source": [
    "To run the cell below, you need to open two new terminals, and each of them run:\n",
    "\n",
    "`qvm -S`\n",
    "\n",
    "and\n",
    "\n",
    "`quilc -S`,\n",
    "\n",
    "which can enable Pyquil to run locally."
   ]
  },
  {
   "cell_type": "code",
   "execution_count": null,
   "metadata": {},
   "outputs": [],
   "source": [
    "# run the program on a QVM\n",
    "qc = get_qc('9q-square-qvm')\n",
    "result = qc.run_and_measure(p, trials=10)\n",
    "print(result[0])\n",
    "print(result[1])"
   ]
  },
  {
   "cell_type": "markdown",
   "metadata": {},
   "source": [
    "The call to `run_and_measure` will make a request to the two servers we started up in the previous section: first, to the `quilc` server instance to compile the Quil program into native Quil, and then to the `qvm` server instance to simulate and return measurement results of the program 10 times. If you open up the terminal windows where your servers are running, you should see output printed to the console regarding the requests you just made."
   ]
  }
 ],
 "metadata": {
  "kernelspec": {
   "display_name": "Python 3",
   "language": "python",
   "name": "python3"
  },
  "language_info": {
   "codemirror_mode": {
    "name": "ipython",
    "version": 3
   },
   "file_extension": ".py",
   "mimetype": "text/x-python",
   "name": "python",
   "nbconvert_exporter": "python",
   "pygments_lexer": "ipython3",
   "version": "3.7.2"
  }
 },
 "nbformat": 4,
 "nbformat_minor": 2
}
